{
 "cells": [
  {
   "cell_type": "markdown",
   "metadata": {},
   "source": [
    "# Welcome to Exkaldi.\n",
    "\n",
    "In this section, we will introduce some configures of Exkaldi.\n",
    "\n",
    "Import exkaldi package. We allow that __Kaldi__ has not been installed, but error will be raised when you use some core functions. "
   ]
  },
  {
   "cell_type": "code",
   "execution_count": 1,
   "metadata": {},
   "outputs": [],
   "source": [
    "import exkaldi"
   ]
  },
  {
   "cell_type": "markdown",
   "metadata": {},
   "source": [
    "When import exkaldi package, it will be config automatically. If succeed, you can look these infomation.\n",
    "\n",
    "Look the version information."
   ]
  },
  {
   "cell_type": "code",
   "execution_count": 2,
   "metadata": {},
   "outputs": [
    {
     "data": {
      "text/plain": [
       "ExKaldi(version='1.0', major='1', minor='0')"
      ]
     },
     "execution_count": 2,
     "metadata": {},
     "output_type": "execute_result"
    }
   ],
   "source": [
    "ExkaldiInfo = exkaldi.version\n",
    "\n",
    "ExkaldiInfo"
   ]
  },
  {
   "cell_type": "markdown",
   "metadata": {},
   "source": [
    "If Kaldi existed, automatically check the version of Kaldi from \".version\" file in Kaldi root path. You can look the Kaldi version info here."
   ]
  },
  {
   "cell_type": "code",
   "execution_count": 3,
   "metadata": {},
   "outputs": [
    {
     "data": {
      "text/plain": [
       "Kaldi(version='5.5', major='5', minor='5')"
      ]
     },
     "execution_count": 3,
     "metadata": {},
     "output_type": "execute_result"
    }
   ],
   "source": [
    "ExkaldiInfo.KALDI"
   ]
  },
  {
   "cell_type": "markdown",
   "metadata": {},
   "source": [
    "Look the Kaldi root path. If Kaldi root directory has not been appended to system PATH, return None. "
   ]
  },
  {
   "cell_type": "code",
   "execution_count": 4,
   "metadata": {},
   "outputs": [
    {
     "data": {
      "text/plain": [
       "'/Work18/wangyu/kaldi'"
      ]
     },
     "execution_count": 4,
     "metadata": {},
     "output_type": "execute_result"
    }
   ],
   "source": [
    "ExkaldiInfo.KALDI_ROOT"
   ]
  },
  {
   "cell_type": "markdown",
   "metadata": {},
   "source": [
    "Look the environment, and the system PATH."
   ]
  },
  {
   "cell_type": "code",
   "execution_count": 5,
   "metadata": {},
   "outputs": [
    {
     "data": {
      "text/plain": [
       "'/misc/home/usr18/wangyu/.virtualenvs/tfenv/bin:/home/usr18/wangyu/anaconda3/bin:/usr/local/cuda/bin:/home/usr18/wangyu/bin:/usr/local/sbin:/usr/local/bin:/usr/sbin:/usr/bin:/sbin:/bin:/usr/games:/snap/bin:/Work18/wangyu/kaldi/src/Gambian:/Work18/wangyu/kaldi/src/bin:/Work18/wangyu/kaldi/tools/openfst:/Work18/wangyu/kaldi/tools/openfst/bin:/Work18/wangyu/kaldi/src/featbin:/Work18/wangyu/kaldi/src/GAMbian:/Work18/wangyu/kaldi/src/nnetbin:/Work18/wangyu/kaldi/src/lmbin:/Work18/wangyu/kaldi/src/fstbin:/Work18/wangyu/kaldi/src/latbin:/Work18/wangyu/kaldi/src/gmmbin'"
      ]
     },
     "execution_count": 5,
     "metadata": {},
     "output_type": "execute_result"
    }
   ],
   "source": [
    "env = ExkaldiInfo.ENV\n",
    "\n",
    "env[\"PATH\"]"
   ]
  },
  {
   "cell_type": "markdown",
   "metadata": {},
   "source": [
    "If needed, you can assign another Kaldi root path.\n",
    "\n",
    "This operation will also change the environment."
   ]
  },
  {
   "cell_type": "code",
   "execution_count": null,
   "metadata": {},
   "outputs": [],
   "source": [
    "#ExkaldiInfo.assign_kaldi_root( \"newKaldi\" )    #<< change the path here\n",
    "\n",
    "ExkaldiInfo.KALDI_ROOT"
   ]
  },
  {
   "cell_type": "code",
   "execution_count": null,
   "metadata": {},
   "outputs": [],
   "source": [
    "newEnv = ExkaldiInfo.ENV\n",
    "\n",
    "newEnv[\"PATH\"]"
   ]
  },
  {
   "cell_type": "markdown",
   "metadata": {},
   "source": [
    "You can use this method to vertify the existence of Kaldi. If not, raise error.\n",
    "\n",
    "This operation will be called automatically when some core functions start. "
   ]
  },
  {
   "cell_type": "code",
   "execution_count": 6,
   "metadata": {},
   "outputs": [
    {
     "data": {
      "text/plain": [
       "True"
      ]
     },
     "execution_count": 6,
     "metadata": {},
     "output_type": "execute_result"
    }
   ],
   "source": [
    "ExkaldiInfo.vertify_kaldi_existed()"
   ]
  }
 ],
 "metadata": {
  "kernelspec": {
   "display_name": "Python 3",
   "language": "python",
   "name": "python3"
  },
  "language_info": {
   "codemirror_mode": {
    "name": "ipython",
    "version": 3
   },
   "file_extension": ".py",
   "mimetype": "text/x-python",
   "name": "python",
   "nbconvert_exporter": "python",
   "pygments_lexer": "ipython3",
   "version": "3.6.9"
  }
 },
 "nbformat": 4,
 "nbformat_minor": 4
}
