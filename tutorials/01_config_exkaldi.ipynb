{
 "cells": [
  {
   "cell_type": "markdown",
   "metadata": {},
   "source": [
    "# Welcome to Exkaldi.\n",
    "\n",
    "In this section, we will introduce some configures of Exkaldi.\n",
    "\n",
    "Import exkaldi package. We allow that __Kaldi__ has not been installed, but error will be raised when you use some core functions. "
   ]
  },
  {
   "cell_type": "code",
   "execution_count": null,
   "metadata": {},
   "outputs": [],
   "source": [
    "import exkaldi"
   ]
  },
  {
   "cell_type": "markdown",
   "metadata": {},
   "source": [
    "When import exkaldi package, it will be config automatically. If succeed, you can look these infomation.\n",
    "\n",
    "Look the version information."
   ]
  },
  {
   "cell_type": "code",
   "execution_count": null,
   "metadata": {},
   "outputs": [],
   "source": [
    "ExkaldiInfo = exkaldi.info\n",
    "\n",
    "ExkaldiInfo"
   ]
  },
  {
   "cell_type": "markdown",
   "metadata": {},
   "source": [
    "If Kaldi existed, automatically check the version of Kaldi from \".version\" file in Kaldi root path. You can look the Kaldi version info here."
   ]
  },
  {
   "cell_type": "code",
   "execution_count": null,
   "metadata": {},
   "outputs": [],
   "source": [
    "ExkaldiInfo.KALDI"
   ]
  },
  {
   "cell_type": "markdown",
   "metadata": {},
   "source": [
    "Look the Kaldi root path. If Kaldi root directory has not been appended to system PATH, return None. "
   ]
  },
  {
   "cell_type": "code",
   "execution_count": null,
   "metadata": {},
   "outputs": [],
   "source": [
    "ExkaldiInfo.KALDI_ROOT"
   ]
  },
  {
   "cell_type": "markdown",
   "metadata": {},
   "source": [
    "Look the environment, and the system PATH."
   ]
  },
  {
   "cell_type": "code",
   "execution_count": null,
   "metadata": {},
   "outputs": [],
   "source": [
    "env = ExkaldiInfo.ENV\n",
    "\n",
    "env[\"PATH\"]"
   ]
  },
  {
   "cell_type": "markdown",
   "metadata": {},
   "source": [
    "If needed, you can assign another Kaldi root path.\n",
    "\n",
    "This operation will also change the environment."
   ]
  },
  {
   "cell_type": "code",
   "execution_count": null,
   "metadata": {},
   "outputs": [],
   "source": [
    "#ExkaldiInfo.assign_kaldi_root( \"newKaldi\" )    #<< decomment here to look result\n",
    "\n",
    "ExkaldiInfo.KALDI_ROOT"
   ]
  },
  {
   "cell_type": "code",
   "execution_count": null,
   "metadata": {},
   "outputs": [],
   "source": [
    "newEnv = ExkaldiInfo.ENV\n",
    "\n",
    "newEnv[\"PATH\"]"
   ]
  }
 ],
 "metadata": {
  "kernelspec": {
   "display_name": "Python 3",
   "language": "python",
   "name": "python3"
  },
  "language_info": {
   "codemirror_mode": {
    "name": "ipython",
    "version": 3
   },
   "file_extension": ".py",
   "mimetype": "text/x-python",
   "name": "python",
   "nbconvert_exporter": "python",
   "pygments_lexer": "ipython3",
   "version": "3.6.9"
  }
 },
 "nbformat": 4,
 "nbformat_minor": 4
}
