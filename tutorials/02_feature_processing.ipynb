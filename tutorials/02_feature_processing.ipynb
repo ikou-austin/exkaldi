{
 "cells": [
  {
   "cell_type": "markdown",
   "metadata": {},
   "source": [
    "# Welcome to Exkaldi\n",
    "\n",
    "In this section, we will extract and process acoustic feature.\n",
    "\n",
    "Please ensure you have downloaded the integral librispeech_dummy corpus from our github.\n",
    "https://github.com/wangyu09/exkaldi\n",
    "\n",
    "First of all, update the wav path info in wav.scp file."
   ]
  },
  {
   "cell_type": "code",
   "execution_count": null,
   "metadata": {},
   "outputs": [],
   "source": [
    "! cd librispeech_dummy && python reset_wav_path.py"
   ]
  },
  {
   "cell_type": "markdown",
   "metadata": {},
   "source": [
    "From now on, we will start to build a ASR system from the scratch."
   ]
  },
  {
   "cell_type": "code",
   "execution_count": null,
   "metadata": {},
   "outputs": [],
   "source": [
    "import exkaldi\n",
    "\n",
    "import os\n",
    "dataDir = \"librispeech_dummy\""
   ]
  },
  {
   "cell_type": "markdown",
   "metadata": {},
   "source": [
    "In the train dataset, there are 100 utterances fetched from 10 speakers. Each specker corresponds to 10 utterances.\n",
    "\n",
    "You can compute feature from __WAV file__ or __Kaldi script-file table__ or exkaldi __ListTable__ object."
   ]
  },
  {
   "cell_type": "code",
   "execution_count": null,
   "metadata": {},
   "outputs": [],
   "source": [
    "scpFile = os.path.join(dataDir, \"train\", \"wav.scp\")\n",
    "\n",
    "feat = exkaldi.compute_mfcc(scpFile, name=\"mfcc\")\n",
    "\n",
    "feat"
   ]
  },
  {
   "cell_type": "markdown",
   "metadata": {},
   "source": [
    "use function __compute_mfcc__ to compute MFCC feature. In current version of Exkaldi, there are four functions to compute acoustic feature:\n",
    "\n",
    "__compute_mfcc__: compute the MFCC feature.  \n",
    "__compute_fbank__: compute the fBank feature.  \n",
    "__compute_plp__: compute the PLP feature.  \n",
    "__compute_spectrogram__: compute the power spectrogram feature.\n",
    "\n",
    "The returned object: ___feat___ is an exkaldi feature archieve whose class name is __BytesFeature__. In Exkaldi, we designed a group of classes to hold kaldi archieve table (in both binary format and text format) and script-file table. We will introduce them in laters steps.\n",
    "\n",
    "Here, __BytesFeature__ object holds the feature data with bytes format. You can use attribute: __.data__ to get it, but we do not recommend this if you just want to look it, It is not a human-readable data format.\n",
    "\n",
    "___feat___ object has some useful attributes and methods. For example, use __.dim__ to look feature dimensions."
   ]
  },
  {
   "cell_type": "code",
   "execution_count": null,
   "metadata": {},
   "outputs": [],
   "source": [
    "feat.dim"
   ]
  },
  {
   "cell_type": "markdown",
   "metadata": {},
   "source": [
    "Use __.utts__ to get its' utterances IDs."
   ]
  },
  {
   "cell_type": "code",
   "execution_count": null,
   "metadata": {},
   "outputs": [],
   "source": [
    "feat.utts[0:5]"
   ]
  },
  {
   "cell_type": "markdown",
   "metadata": {},
   "source": [
    "Get a specified utterance by using __.\\_\\_call\\_\\___ method."
   ]
  },
  {
   "cell_type": "code",
   "execution_count": null,
   "metadata": {},
   "outputs": [],
   "source": [
    "oneFeat = feat(\"103-1240-0000\")\n",
    "\n",
    "oneFeat"
   ]
  },
  {
   "cell_type": "markdown",
   "metadata": {},
   "source": [
    "Here, ___oneFeat___ is also a __BytesFeature__ object, but only one utterance. \n",
    "\n",
    "In exkaldi, the name of object will record the operation. For example, the ___oneFeat___ generated above has a new name now."
   ]
  },
  {
   "cell_type": "code",
   "execution_count": null,
   "metadata": {},
   "outputs": [],
   "source": [
    "oneFeat.name"
   ]
  },
  {
   "cell_type": "code",
   "execution_count": null,
   "metadata": {},
   "outputs": [],
   "source": [
    "del oneFeat"
   ]
  },
  {
   "cell_type": "markdown",
   "metadata": {},
   "source": [
    "Besides __BytesFeature__ class, these classes can hold other Kaldi achivement tables in bytes format.\n",
    "\n",
    "__BytesCMVNStatistics__: to hold the CMVN statistics.  \n",
    "__BytesProbability__: to hold the Neural Network output.  \n",
    "__BytesAlignmentTrans__: to hold the Transition-ID Alignment.   \n",
    "__BytesFmllrMatrix__: to hold the fmllr transform matrices. \n",
    "\n",
    "All these classes have some fimiliar properties. For more information, check the source code please. Here we only focus on feature processing.\n",
    "\n",
    "By the way, in Exkaldi, we sort these archieves rigorously in order to reduce buffer cost and accelerate processing."
   ]
  },
  {
   "cell_type": "code",
   "execution_count": null,
   "metadata": {},
   "outputs": [],
   "source": [
    "featTemp = feat.sort(by=\"utt\", reverse=True)\n",
    "\n",
    "featTemp.utts[0:5]"
   ]
  },
  {
   "cell_type": "code",
   "execution_count": null,
   "metadata": {},
   "outputs": [],
   "source": [
    "del featTemp"
   ]
  },
  {
   "cell_type": "markdown",
   "metadata": {},
   "source": [
    "Raw feature can be further optimized, typically, with applying CMVN. Here we compute the CMVN statistics."
   ]
  },
  {
   "cell_type": "code",
   "execution_count": null,
   "metadata": {},
   "outputs": [],
   "source": [
    "spk2uttFile = os.path.join(dataDir, \"train\", \"spk2utt\")\n",
    "\n",
    "cmvn = exkaldi.compute_cmvn_stats(feat, spk2utt=spk2uttFile, name=\"cmvn\")\n",
    "\n",
    "cmvn"
   ]
  },
  {
   "cell_type": "markdown",
   "metadata": {},
   "source": [
    "___cmvn___ is an exkaldi __BytesCMVNStatistics__ object. It holds the CMVN statistics in binary format. Then we normalize the feature."
   ]
  },
  {
   "cell_type": "code",
   "execution_count": null,
   "metadata": {},
   "outputs": [],
   "source": [
    "utt2spkFile = os.path.join(dataDir, \"train\", \"utt2spk\")\n",
    "\n",
    "feat = exkaldi.use_cmvn(feat, cmvn, utt2spk=utt2spkFile)\n",
    "\n",
    "feat.name"
   ]
  },
  {
   "cell_type": "markdown",
   "metadata": {},
   "source": [
    "We save this feature into file. In futher steps, it will be restoraged. Exkaldi bytes archieves can be saved the same as Kaldi format files whose suffix is __.ark__."
   ]
  },
  {
   "cell_type": "code",
   "execution_count": null,
   "metadata": {},
   "outputs": [],
   "source": [
    "featFile = os.path.join(dataDir, \"exp\", \"train_mfcc_cmvn.ark\")\n",
    "\n",
    "exkaldi.utils.make_dependent_dirs(path=featFile, pathIsFile=True)\n",
    "\n",
    "featIndex = feat.save(featFile, returnIndexTable=True)\n",
    "#del feat"
   ]
  },
  {
   "cell_type": "code",
   "execution_count": null,
   "metadata": {},
   "outputs": [],
   "source": [
    "len(feat.data)"
   ]
  },
  {
   "cell_type": "markdown",
   "metadata": {},
   "source": [
    "If you appoint the parameter __returnIndexTable__ to be True, an __ArkIndexTable__ object will be returned. It plays almost the same role with original feature object. __ArkIndexTable__ is a subclass of Python dict class, so you can view its data directly."
   ]
  },
  {
   "cell_type": "code",
   "execution_count": null,
   "metadata": {},
   "outputs": [],
   "source": [
    "featIndex"
   ]
  },
  {
   "cell_type": "markdown",
   "metadata": {},
   "source": [
    "Of cause, original archieves can also be loaded into memory again. For example, feature can be loaded from Kaldi binary achivement file (__.ark__ file) or script table file (__.scp__).\n",
    "\n",
    "Particularly, we can fetch the data via index table directly."
   ]
  },
  {
   "cell_type": "code",
   "execution_count": null,
   "metadata": {},
   "outputs": [],
   "source": [
    "feat = featIndex.fetch(arkType=\"feat\")\n",
    "del featIndex\n",
    "\n",
    "feat"
   ]
  },
  {
   "cell_type": "markdown",
   "metadata": {},
   "source": [
    "All Bytes archieves can be transformed to __Numpy__ format. So If you want to train NN acoustic model with Tensorflow or others, you can use the Numpy format data."
   ]
  },
  {
   "cell_type": "code",
   "execution_count": null,
   "metadata": {},
   "outputs": [],
   "source": [
    "feat = feat.to_numpy()\n",
    "\n",
    "feat"
   ]
  },
  {
   "cell_type": "markdown",
   "metadata": {},
   "source": [
    "by calling __.to_numpy()__ function, ___feat___ became an exkaldi __NumpyFeature__ object, it has some fimiliar attributes and methods with __BytesFeature__, but also has own properties. Let's skip the details here.\n",
    "\n",
    "So you can use __.data__ to look it."
   ]
  },
  {
   "cell_type": "code",
   "execution_count": null,
   "metadata": {},
   "outputs": [],
   "source": [
    "oneFeat = feat.subset(nHead=1)\n",
    "\n",
    "oneFeat.data"
   ]
  },
  {
   "cell_type": "code",
   "execution_count": null,
   "metadata": {},
   "outputs": [],
   "source": [
    "del oneFeat"
   ]
  },
  {
   "cell_type": "markdown",
   "metadata": {},
   "source": [
    "Similarly, exkaldi Numpy archieves can be transformed back to Bytes archieves easily. "
   ]
  },
  {
   "cell_type": "code",
   "execution_count": null,
   "metadata": {},
   "outputs": [],
   "source": [
    "feat.to_bytes()"
   ]
  },
  {
   "cell_type": "markdown",
   "metadata": {},
   "source": [
    "Exkaldi Numpy achivements can also be saved to .npy file with a specified format."
   ]
  },
  {
   "cell_type": "code",
   "execution_count": null,
   "metadata": {},
   "outputs": [],
   "source": [
    "tempFile = os.path.join(dataDir, \"exp\", \"temp_mfcc.npy\")\n",
    "\n",
    "feat.save(tempFile)"
   ]
  },
  {
   "cell_type": "code",
   "execution_count": null,
   "metadata": {},
   "outputs": [],
   "source": [
    "del feat"
   ]
  },
  {
   "cell_type": "markdown",
   "metadata": {},
   "source": [
    "And restorage it into memory."
   ]
  },
  {
   "cell_type": "code",
   "execution_count": null,
   "metadata": {},
   "outputs": [],
   "source": [
    "feat = exkaldi.load_feat(tempFile, name=\"mfcc\")\n",
    "\n",
    "feat"
   ]
  },
  {
   "cell_type": "code",
   "execution_count": null,
   "metadata": {},
   "outputs": [],
   "source": [
    "os.remove(tempFile)\n",
    "del feat"
   ]
  },
  {
   "cell_type": "markdown",
   "metadata": {},
   "source": [
    "Besides __NumpyFeature__ class, these classes hold Kaldi archieves in Numpy format.\n",
    "\n",
    "__NumpyCMVNStatistics__: to hold CMVN statistics data.  \n",
    "__NumpyProbability__:  to hold NN output data.  \n",
    "__NumpyAlignment__:  to hold Users' own Alignment data.  \n",
    "__NumpyAlignmentTrans__:  to hold Transition-ID alignment.  \n",
    "__NumpyAlignmentPhone__:  to hold Phone-ID alignment.  \n",
    "__NumpyAlignmentPdf__:  to hold Pdf-ID alignment.  \n",
    "__NumpyFmllrMatrix__:  to hold fmllr transform matrices.  \n",
    "\n",
    "They have similar properties as __NumpyFeature__. We will introduce them in the next steps."
   ]
  }
 ],
 "metadata": {
  "kernelspec": {
   "display_name": "Python 3",
   "language": "python",
   "name": "python3"
  },
  "language_info": {
   "codemirror_mode": {
    "name": "ipython",
    "version": 3
   },
   "file_extension": ".py",
   "mimetype": "text/x-python",
   "name": "python",
   "nbconvert_exporter": "python",
   "pygments_lexer": "ipython3",
   "version": "3.6.9"
  }
 },
 "nbformat": 4,
 "nbformat_minor": 4
}
