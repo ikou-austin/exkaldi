{
 "cells": [
  {
   "cell_type": "markdown",
   "metadata": {},
   "source": [
    "# Welcome to Exkaldi\n",
    "\n",
    "In this section, we will extract and process acoustic feature.\n",
    "\n",
    "Please ensure you have downloaded the integral librispeech_dummy corpus from our github.\n",
    "https://github.com/wangyu09/exkaldi\n",
    "\n",
    "First of all, update the wav path info in wav.scp file."
   ]
  },
  {
   "cell_type": "code",
   "execution_count": 1,
   "metadata": {},
   "outputs": [],
   "source": [
    "! cd ../examplesdata/librispeech_dummy && python reset_wav_path.py"
   ]
  },
  {
   "cell_type": "code",
   "execution_count": 2,
   "metadata": {},
   "outputs": [],
   "source": [
    "import exkaldi\n",
    "\n",
    "import os\n",
    "dataDir = os.path.join(\"..\", \"examplesdata\", \"librispeech_dummy\")"
   ]
  },
  {
   "cell_type": "markdown",
   "metadata": {},
   "source": [
    "We use train data set, there are 100 utterances fetched from 10 speakers. Each specker corresponds to 10 utterances.\n",
    "\n",
    "You can compute feature from WAV file or Kaldi script-file table or exkaldi __ListTable__ object."
   ]
  },
  {
   "cell_type": "code",
   "execution_count": 3,
   "metadata": {},
   "outputs": [
    {
     "data": {
      "text/plain": [
       "<exkaldi.core.achivements.BytesFeature at 0x7f25c0f98f28>"
      ]
     },
     "execution_count": 3,
     "metadata": {},
     "output_type": "execute_result"
    }
   ],
   "source": [
    "scpFile = os.path.join(dataDir, \"train\", \"wav.scp\")\n",
    "\n",
    "feat = exkaldi.compute_mfcc(scpFile, name=\"mfcc\")\n",
    "\n",
    "feat"
   ]
  },
  {
   "cell_type": "markdown",
   "metadata": {},
   "source": [
    "___feat___ is an exkaldi feature achivements: __BytesFeature__ object.\n",
    "\n",
    "in Exkaldi, we designed a group of classes to hold kaldi achivement table (in both binary format and text format) and script-file table.\n",
    "We will introduce them in the futher steps.\n",
    "\n",
    "Here, __BytesFeature__ object holds the feature data with binary format. you can use __.data__ to get it, but we do not suggest you do like this if you just want to look it.\n",
    "\n",
    "___feat___ has some useful attributes and methods, for example, use __.dim__ to look feature dimensionality."
   ]
  },
  {
   "cell_type": "code",
   "execution_count": 4,
   "metadata": {},
   "outputs": [
    {
     "data": {
      "text/plain": [
       "13"
      ]
     },
     "execution_count": 4,
     "metadata": {},
     "output_type": "execute_result"
    }
   ],
   "source": [
    "feat.dim"
   ]
  },
  {
   "cell_type": "markdown",
   "metadata": {},
   "source": [
    "Use __.utts__ to look utt-IDs."
   ]
  },
  {
   "cell_type": "code",
   "execution_count": 5,
   "metadata": {},
   "outputs": [
    {
     "data": {
      "text/plain": [
       "['103-1240-0000',\n",
       " '103-1240-0001',\n",
       " '103-1240-0002',\n",
       " '103-1240-0003',\n",
       " '103-1240-0004']"
      ]
     },
     "execution_count": 5,
     "metadata": {},
     "output_type": "execute_result"
    }
   ],
   "source": [
    "feat.utts[0:5]"
   ]
  },
  {
   "cell_type": "markdown",
   "metadata": {},
   "source": [
    "Get a specified utterance by using __.\\_\\_call\\_\\___ method."
   ]
  },
  {
   "cell_type": "code",
   "execution_count": 6,
   "metadata": {},
   "outputs": [],
   "source": [
    "oneFeat = feat(\"103-1240-0000\")"
   ]
  },
  {
   "cell_type": "markdown",
   "metadata": {},
   "source": [
    "Here, ___oneFeat___ is an exkaldi __BytesFeature__ object, but only one utterance. \n",
    "\n",
    "In exkaldi, the name of object will record the operation. For example, the ___oneFeat___ generated above has a new name now."
   ]
  },
  {
   "cell_type": "code",
   "execution_count": 7,
   "metadata": {},
   "outputs": [
    {
     "data": {
      "text/plain": [
       "'pick(mfcc,103-1240-0000)'"
      ]
     },
     "execution_count": 7,
     "metadata": {},
     "output_type": "execute_result"
    }
   ],
   "source": [
    "oneFeat.name"
   ]
  },
  {
   "cell_type": "code",
   "execution_count": 8,
   "metadata": {},
   "outputs": [],
   "source": [
    "del oneFeat"
   ]
  },
  {
   "cell_type": "markdown",
   "metadata": {},
   "source": [
    "Besides __BytesFeature__, these classes can hold other Kaldi achivement tables in binary format.\n",
    "\n",
    "__BytesCMVNStatistics__: to hold the CMVN statistics data. \n",
    "\n",
    "__BytesProbability__: to hold the Neural Network output data. \n",
    "\n",
    "__BytesAlignmentTrans__: to hold the Transition-ID Alignment data. \n",
    "\n",
    "All these classes have some fimiliar properties. Here we only focus on feature processing.\n",
    "\n",
    "by the way, in Exkaldi, we sort these achivements rigorously in order to reduce buffer cost and accelerate processing."
   ]
  },
  {
   "cell_type": "code",
   "execution_count": 9,
   "metadata": {},
   "outputs": [
    {
     "data": {
      "text/plain": [
       "['1088-134315-0009',\n",
       " '1088-134315-0008',\n",
       " '1088-134315-0007',\n",
       " '1088-134315-0006',\n",
       " '1088-134315-0005']"
      ]
     },
     "execution_count": 9,
     "metadata": {},
     "output_type": "execute_result"
    }
   ],
   "source": [
    "feat = feat.sort(by=\"utt\", reverse=True)\n",
    "\n",
    "feat.utts[0:5]"
   ]
  },
  {
   "cell_type": "markdown",
   "metadata": {},
   "source": [
    "Raw feature can be optimized furtherly, typically, applying CMVN."
   ]
  },
  {
   "cell_type": "code",
   "execution_count": 10,
   "metadata": {},
   "outputs": [
    {
     "data": {
      "text/plain": [
       "<exkaldi.core.achivements.BytesCMVNStatistics at 0x7f261d32b2e8>"
      ]
     },
     "execution_count": 10,
     "metadata": {},
     "output_type": "execute_result"
    }
   ],
   "source": [
    "spk2uttFile = os.path.join(dataDir, \"train\", \"spk2utt\")\n",
    "\n",
    "cmvn = exkaldi.compute_cmvn_stats(feat, spk2utt=spk2uttFile, name=\"cmvn\")\n",
    "\n",
    "cmvn"
   ]
  },
  {
   "cell_type": "markdown",
   "metadata": {},
   "source": [
    "___cmvn___ is an Exkaldi BytesCMVNStatistics object. It holds the CMVN statistics in binary format."
   ]
  },
  {
   "cell_type": "code",
   "execution_count": 11,
   "metadata": {},
   "outputs": [
    {
     "data": {
      "text/plain": [
       "'cmvn(mfcc,cmvn)'"
      ]
     },
     "execution_count": 11,
     "metadata": {},
     "output_type": "execute_result"
    }
   ],
   "source": [
    "utt2spkFile = os.path.join(dataDir, \"train\", \"utt2spk\")\n",
    "\n",
    "feat = exkaldi.use_cmvn(feat, cmvn, utt2spk=utt2spkFile)\n",
    "\n",
    "feat.name"
   ]
  },
  {
   "cell_type": "markdown",
   "metadata": {},
   "source": [
    "Then add 2-order deltas and then splice left-right 3 frames."
   ]
  },
  {
   "cell_type": "code",
   "execution_count": 12,
   "metadata": {},
   "outputs": [
    {
     "data": {
      "text/plain": [
       "39"
      ]
     },
     "execution_count": 12,
     "metadata": {},
     "output_type": "execute_result"
    }
   ],
   "source": [
    "feat = feat.add_delta(order=2)\n",
    "\n",
    "feat.dim"
   ]
  },
  {
   "cell_type": "code",
   "execution_count": 13,
   "metadata": {},
   "outputs": [
    {
     "data": {
      "text/plain": [
       "117"
      ]
     },
     "execution_count": 13,
     "metadata": {},
     "output_type": "execute_result"
    }
   ],
   "source": [
    "feat = feat.splice(left=1, right=1)\n",
    "\n",
    "feat.dim"
   ]
  },
  {
   "cell_type": "markdown",
   "metadata": {},
   "source": [
    "Exkaldi achivements can be saved in file as Kaldi achivement files whose suffix is .ark (and .scp)."
   ]
  },
  {
   "cell_type": "code",
   "execution_count": 14,
   "metadata": {},
   "outputs": [
    {
     "data": {
      "text/plain": [
       "'../examplesdata/librispeech_dummy/exp/mfcc.ark'"
      ]
     },
     "execution_count": 14,
     "metadata": {},
     "output_type": "execute_result"
    }
   ],
   "source": [
    "featFile = os.path.join(dataDir, \"exp\", \"mfcc.ark\")\n",
    "\n",
    "exkaldi.utils.make_dependent_dirs(path=featFile, pathIsFile=True)\n",
    "\n",
    "feat.save(featFile, outScpFile=False)"
   ]
  },
  {
   "cell_type": "code",
   "execution_count": 15,
   "metadata": {},
   "outputs": [],
   "source": [
    "del feat"
   ]
  },
  {
   "cell_type": "markdown",
   "metadata": {},
   "source": [
    "Of cause, feature can also be loaded Kaldi binary achivement file (.ark file) or script table file (.scp). "
   ]
  },
  {
   "cell_type": "code",
   "execution_count": 16,
   "metadata": {},
   "outputs": [
    {
     "data": {
      "text/plain": [
       "<exkaldi.core.achivements.BytesFeature at 0x7f261d366860>"
      ]
     },
     "execution_count": 16,
     "metadata": {},
     "output_type": "execute_result"
    }
   ],
   "source": [
    "feat = exkaldi.load_feat(featFile, name=\"mfcc\")\n",
    "\n",
    "feat"
   ]
  },
  {
   "cell_type": "markdown",
   "metadata": {},
   "source": [
    "All Bytes achivements can be transformed to visible Numpy format. So If you want to train NN acoustic model with Tensorflow or others, you can use the Numpy format data."
   ]
  },
  {
   "cell_type": "code",
   "execution_count": 17,
   "metadata": {},
   "outputs": [
    {
     "data": {
      "text/plain": [
       "<exkaldi.core.achivements.NumpyFeature at 0x7f261d34eb70>"
      ]
     },
     "execution_count": 17,
     "metadata": {},
     "output_type": "execute_result"
    }
   ],
   "source": [
    "feat = feat.to_numpy()\n",
    "\n",
    "feat"
   ]
  },
  {
   "cell_type": "markdown",
   "metadata": {},
   "source": [
    "___feat___ became an Exkaldi __NumpyFeature__ object, it has some fimiliar attributes and methods with __BytesFeature__, but also has own properties. Let's skip the details first.\n",
    "\n",
    "Unlike binary format, Numpy format is visible. So you can use __.data__ to look it."
   ]
  },
  {
   "cell_type": "code",
   "execution_count": 18,
   "metadata": {},
   "outputs": [
    {
     "data": {
      "text/plain": [
       "{'103-1240-0000': array([[ -2.254528  ,  -3.3443842 ,   8.89428   , ...,   0.22093892,\n",
       "           0.57776177,  -0.5845985 ],\n",
       "        [ -2.254528  ,  -3.3443842 ,   8.89428   , ...,   0.7834983 ,\n",
       "           1.0710119 ,   0.29615283],\n",
       "        [ -2.2711601 ,  -3.6887026 ,   8.395482  , ...,   1.1539035 ,\n",
       "           1.3796794 ,   1.3895724 ],\n",
       "        ...,\n",
       "        [ -1.5286026 , -17.361238  , -10.944935  , ...,   0.2552031 ,\n",
       "          -0.29630542,   0.5276331 ],\n",
       "        [ -1.5548878 , -16.208216  , -15.402992  , ...,  -0.12567882,\n",
       "           0.7363866 ,   0.20010377],\n",
       "        [ -1.6056385 , -18.53891   , -13.54101   , ...,  -0.12567882,\n",
       "           0.7363866 ,   0.20010377]], dtype=float32)}"
      ]
     },
     "execution_count": 18,
     "metadata": {},
     "output_type": "execute_result"
    }
   ],
   "source": [
    "oneFeat = feat.subset(nHead=1)\n",
    "\n",
    "oneFeat.data"
   ]
  },
  {
   "cell_type": "code",
   "execution_count": 19,
   "metadata": {},
   "outputs": [],
   "source": [
    "del oneFeat"
   ]
  },
  {
   "cell_type": "markdown",
   "metadata": {},
   "source": [
    "Exkaldi Numpy achivements can be transformed back to Bytes achivements easily. "
   ]
  },
  {
   "cell_type": "code",
   "execution_count": 20,
   "metadata": {},
   "outputs": [
    {
     "data": {
      "text/plain": [
       "<exkaldi.core.achivements.BytesFeature at 0x7f261db74f98>"
      ]
     },
     "execution_count": 20,
     "metadata": {},
     "output_type": "execute_result"
    }
   ],
   "source": [
    "feat.to_bytes()"
   ]
  },
  {
   "cell_type": "markdown",
   "metadata": {},
   "source": [
    "Exkaldi Numpy achivements can also be saved to .npy file with a specified format."
   ]
  },
  {
   "cell_type": "code",
   "execution_count": 21,
   "metadata": {},
   "outputs": [
    {
     "data": {
      "text/plain": [
       "'../examplesdata/librispeech_dummy/exp/mfcc.npy'"
      ]
     },
     "execution_count": 21,
     "metadata": {},
     "output_type": "execute_result"
    }
   ],
   "source": [
    "tempFile = os.path.join(dataDir, \"exp\", \"mfcc.npy\")\n",
    "\n",
    "feat.save(tempFile)"
   ]
  },
  {
   "cell_type": "code",
   "execution_count": 22,
   "metadata": {},
   "outputs": [],
   "source": [
    "del feat"
   ]
  },
  {
   "cell_type": "markdown",
   "metadata": {},
   "source": [
    "And load it into memory again."
   ]
  },
  {
   "cell_type": "code",
   "execution_count": 23,
   "metadata": {},
   "outputs": [],
   "source": [
    "feat = exkaldi.load_feat(tempFile, name=\"mfcc\")"
   ]
  },
  {
   "cell_type": "code",
   "execution_count": 24,
   "metadata": {},
   "outputs": [],
   "source": [
    "os.remove(tempFile)"
   ]
  },
  {
   "cell_type": "markdown",
   "metadata": {},
   "source": [
    "Besides __NumpyFeature__ class, these classes hold Kaldi achivements in Numpy format.\n",
    "\n",
    "__NumpyCMVNStatistics__: to hold CMVN statistics data.\n",
    "\n",
    "__NumpyProbability__:  to hold NN output data.\n",
    "\n",
    "__NumpyAlignment__:  to hold Users' own Alignment data.\n",
    "\n",
    "__NumpyAlignmentTrans__:  to hold Transition-ID alignment.\n",
    "\n",
    "__NumpyAlignmentPhone__:  to hold Phone-ID alignment.\n",
    "\n",
    "__NumpyAlignmentPdf__:  to hold Pdf-ID alignment.\n",
    "\n",
    "They have similar properties as NumpyFeature. We will introduce them in the next steps."
   ]
  },
  {
   "cell_type": "code",
   "execution_count": null,
   "metadata": {},
   "outputs": [],
   "source": []
  }
 ],
 "metadata": {
  "kernelspec": {
   "display_name": "Python 3",
   "language": "python",
   "name": "python3"
  },
  "language_info": {
   "codemirror_mode": {
    "name": "ipython",
    "version": 3
   },
   "file_extension": ".py",
   "mimetype": "text/x-python",
   "name": "python",
   "nbconvert_exporter": "python",
   "pygments_lexer": "ipython3",
   "version": "3.6.8"
  }
 },
 "nbformat": 4,
 "nbformat_minor": 4
}
