{
 "cells": [
  {
   "cell_type": "markdown",
   "metadata": {},
   "source": [
    "# Welcome to Exkaldi.\n",
    "\n",
    "In this section, we will introduce some configurations of Exkaldi.\n",
    "\n",
    "Import exkaldi package. We allow that __Kaldi__ has not been installed temporarily, but error will be raised when you use some core functions. "
   ]
  },
  {
   "cell_type": "code",
   "execution_count": null,
   "metadata": {},
   "outputs": [],
   "source": [
    "import exkaldi\n",
    "import os"
   ]
  },
  {
   "cell_type": "markdown",
   "metadata": {},
   "source": [
    "When import exkaldi package, it will be config automatically.\n",
    "\n",
    "Look the version information."
   ]
  },
  {
   "cell_type": "code",
   "execution_count": null,
   "metadata": {},
   "outputs": [],
   "source": [
    "ExkaldiInfo = exkaldi.info\n",
    "\n",
    "ExkaldiInfo"
   ]
  },
  {
   "cell_type": "markdown",
   "metadata": {},
   "source": [
    "__exkaldi.info__ carries various configurations of Exkaldi. For example, if __Kaldi__ has existed, it will automatically look for the version number of Kaldi in \".version\" file in __Kaldi__ root path. You can get the Kaldi version."
   ]
  },
  {
   "cell_type": "code",
   "execution_count": null,
   "metadata": {},
   "outputs": [],
   "source": [
    "ExkaldiInfo.KALDI"
   ]
  },
  {
   "cell_type": "markdown",
   "metadata": {},
   "source": [
    "If __Kaldi__ root directory has not been appended to system PATH, you can call it."
   ]
  },
  {
   "cell_type": "code",
   "execution_count": null,
   "metadata": {},
   "outputs": [],
   "source": [
    "ExkaldiInfo.KALDI_ROOT"
   ]
  },
  {
   "cell_type": "markdown",
   "metadata": {},
   "source": [
    "If you want to get the environment where Exkaldi are running:"
   ]
  },
  {
   "cell_type": "code",
   "execution_count": null,
   "metadata": {
    "scrolled": false
   },
   "outputs": [],
   "source": [
    "env = ExkaldiInfo.ENV\n",
    "\n",
    "env"
   ]
  },
  {
   "cell_type": "markdown",
   "metadata": {},
   "source": [
    "If you want add a new path to the environment PATH:"
   ]
  },
  {
   "cell_type": "code",
   "execution_count": null,
   "metadata": {
    "scrolled": true
   },
   "outputs": [],
   "source": [
    "newPath = os.path.abspath(\"./\")\n",
    "\n",
    "ExkaldiInfo.export_path(newPath)\n",
    "\n",
    "ExkaldiInfo.ENV[\"PATH\"]"
   ]
  },
  {
   "cell_type": "markdown",
   "metadata": {},
   "source": [
    "If needed, you can appoint another __Kaldi__ root path.\n",
    "\n",
    "This operation will also change the environment."
   ]
  },
  {
   "cell_type": "code",
   "execution_count": null,
   "metadata": {},
   "outputs": [],
   "source": [
    "#ExkaldiInfo.reset_kaldi_root( newPath )    #<< decomment here to look result\n",
    "\n",
    "print(ExkaldiInfo.KALDI_ROOT)\n",
    "print(ExkaldiInfo.ENV[\"PATH\"])"
   ]
  },
  {
   "cell_type": "markdown",
   "metadata": {},
   "source": [
    "When run multiple processes, we appoint a default timeout value, you can get it or reset it."
   ]
  },
  {
   "cell_type": "code",
   "execution_count": null,
   "metadata": {},
   "outputs": [],
   "source": [
    "print(ExkaldiInfo.timeout)\n",
    "\n",
    "ExkaldiInfo.set_timeout(60)\n",
    "\n",
    "print(ExkaldiInfo.timeout)"
   ]
  }
 ],
 "metadata": {
  "kernelspec": {
   "display_name": "Python 3",
   "language": "python",
   "name": "python3"
  },
  "language_info": {
   "codemirror_mode": {
    "name": "ipython",
    "version": 3
   },
   "file_extension": ".py",
   "mimetype": "text/x-python",
   "name": "python",
   "nbconvert_exporter": "python",
   "pygments_lexer": "ipython3",
   "version": "3.6.9"
  }
 },
 "nbformat": 4,
 "nbformat_minor": 4
}
