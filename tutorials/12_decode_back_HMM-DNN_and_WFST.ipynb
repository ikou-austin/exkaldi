{
 "cells": [
  {
   "cell_type": "markdown",
   "metadata": {},
   "source": [
    "# Welcome to Exkaldi\n",
    "\n",
    "In this section, we will decode the test data based on HMM-DNN model and WFST graph."
   ]
  },
  {
   "cell_type": "code",
   "execution_count": 1,
   "metadata": {},
   "outputs": [],
   "source": [
    "import exkaldi\n",
    "\n",
    "import os\n",
    "dataDir = os.path.join(\"..\",\"examplesdata\",\"librispeech_dummy\")"
   ]
  },
  {
   "cell_type": "markdown",
   "metadata": {},
   "source": [
    "Restorage the posteiori probability of AM from file (generated in 11_train_DNN_acoustic_model_with_tensorflow)."
   ]
  },
  {
   "cell_type": "code",
   "execution_count": 3,
   "metadata": {},
   "outputs": [
    {
     "data": {
      "text/plain": [
       "<exkaldi.core.achivements.NumpyProbability at 0x7f06d3bddac8>"
      ]
     },
     "execution_count": 3,
     "metadata": {},
     "output_type": "execute_result"
    }
   ],
   "source": [
    "probFile = os.path.join(dataDir, \"exp\", \"train_DNN\", \"amp.npy\")\n",
    "\n",
    "prob = exkaldi.load_prob(probFile)\n",
    "\n",
    "prob"
   ]
  },
  {
   "cell_type": "code",
   "execution_count": 4,
   "metadata": {},
   "outputs": [
    {
     "data": {
      "text/plain": [
       "[array([[  9.898075  ,   1.0953686 ,  -7.4839864 , ..., -16.370773  ,\n",
       "         -12.213672  , -18.83996   ],\n",
       "        [ 10.67855   ,   2.26591   , -10.3419895 , ..., -11.463517  ,\n",
       "          -9.06819   , -15.469423  ],\n",
       "        [ 12.087365  ,   2.3868787 ,  -7.8134317 , ..., -10.210643  ,\n",
       "          -8.51814   , -13.351054  ],\n",
       "        ...,\n",
       "        [ 12.916887  ,   8.691092  ,  -6.6198387 , ...,  -6.230239  ,\n",
       "           0.23029727, -13.86903   ],\n",
       "        [ 14.433498  ,  10.299255  ,  -6.050156  , ...,  -7.0731497 ,\n",
       "          -2.3821042 , -15.21595   ],\n",
       "        [ 12.779198  ,  10.429777  ,  -7.52954   , ...,  -7.4322987 ,\n",
       "          -3.2171364 , -13.760274  ]], dtype=float32)]"
      ]
     },
     "execution_count": 4,
     "metadata": {},
     "output_type": "execute_result"
    }
   ],
   "source": [
    "prob.subset(nHead=1).arrays"
   ]
  },
  {
   "cell_type": "markdown",
   "metadata": {},
   "source": [
    "As above, this is naive output without log softmax activation function. We need do softmax.\n",
    "\n",
    "Exkaldi Numpy achivements have a method __.map()__ . We map a softmax function to all matrixs."
   ]
  },
  {
   "cell_type": "code",
   "execution_count": 5,
   "metadata": {},
   "outputs": [
    {
     "data": {
      "text/plain": [
       "[array([[ -6.8242016, -15.626908 , -24.206263 , ..., -33.09305  ,\n",
       "         -28.935947 , -35.562237 ],\n",
       "        [ -5.423871 , -13.836511 , -26.44441  , ..., -27.565937 ,\n",
       "         -25.17061  , -31.571844 ],\n",
       "        [ -5.6012163, -15.3017025, -25.502014 , ..., -27.899223 ,\n",
       "         -26.206722 , -31.039635 ],\n",
       "        ...,\n",
       "        [ -8.47839  , -12.7041855, -28.015116 , ..., -27.625515 ,\n",
       "         -21.16498  , -35.264305 ],\n",
       "        [ -8.655146 , -12.789389 , -29.1388   , ..., -30.161793 ,\n",
       "         -25.470749 , -38.304596 ],\n",
       "        [ -9.562988 , -11.912409 , -29.871727 , ..., -29.774485 ,\n",
       "         -25.559322 , -36.10246  ]], dtype=float32)]"
      ]
     },
     "execution_count": 5,
     "metadata": {},
     "output_type": "execute_result"
    }
   ],
   "source": [
    "prob = prob.map( lambda x: exkaldi.nn.log_softmax(x, axis=1) )\n",
    "\n",
    "prob.subset(nHead=1).arrays"
   ]
  },
  {
   "cell_type": "markdown",
   "metadata": {},
   "source": [
    "Then decode. We use WFST. HCLG file and HMM model file have been generated (07_train_triphone_HMM-GMM_delta)."
   ]
  },
  {
   "cell_type": "code",
   "execution_count": 6,
   "metadata": {},
   "outputs": [],
   "source": [
    "HCLGFile = os.path.join(dataDir, \"exp\", \"graph\", \"HCLG.fst\")\n",
    "\n",
    "hmmFile = os.path.join(dataDir, \"exp\", \"train_delta\", \"final.mdl\")"
   ]
  },
  {
   "cell_type": "markdown",
   "metadata": {},
   "source": [
    "And for convenience, prepare lexicons."
   ]
  },
  {
   "cell_type": "code",
   "execution_count": 7,
   "metadata": {},
   "outputs": [
    {
     "data": {
      "text/plain": [
       "<exkaldi.decode.graph.LexiconBank at 0x7f06d3bf6cf8>"
      ]
     },
     "execution_count": 7,
     "metadata": {},
     "output_type": "execute_result"
    }
   ],
   "source": [
    "lexFile = os.path.join(dataDir, \"exp\", \"lexicons.lex\")\n",
    "\n",
    "lexicons = exkaldi.decode.graph.load_lex(lexFile)\n",
    "\n",
    "lexicons"
   ]
  },
  {
   "cell_type": "markdown",
   "metadata": {},
   "source": [
    "Use __nn_decode__ function. "
   ]
  },
  {
   "cell_type": "code",
   "execution_count": 8,
   "metadata": {},
   "outputs": [
    {
     "data": {
      "text/plain": [
       "<exkaldi.decode.wfst.Lattice at 0x7f07311a25f8>"
      ]
     },
     "execution_count": 8,
     "metadata": {},
     "output_type": "execute_result"
    }
   ],
   "source": [
    "lat = exkaldi.decode.wfst.nn_decode(prob, hmmFile, HCLGFile, wordSymbolTable=lexicons(\"words\"))\n",
    "\n",
    "lat"
   ]
  },
  {
   "cell_type": "markdown",
   "metadata": {},
   "source": [
    "From lattice get 1-best result."
   ]
  },
  {
   "cell_type": "code",
   "execution_count": 9,
   "metadata": {},
   "outputs": [
    {
     "data": {
      "text/plain": [
       "{'103-1240-0000': '182 790 718 908 670 589 1120 718 908 670 654 605 1259 1146 89 676 965 298 314 584 4 653 529 449 1279 35 51 619 329 51 1187 161 4 153'}"
      ]
     },
     "execution_count": 9,
     "metadata": {},
     "output_type": "execute_result"
    }
   ],
   "source": [
    "result = lat.get_1best(wordSymbolTable=lexicons(\"words\"), hmm=hmmFile, lmwt=1, acwt=0.5)\n",
    "\n",
    "result.subset(nHead=1)"
   ]
  },
  {
   "cell_type": "markdown",
   "metadata": {},
   "source": [
    "Score it."
   ]
  },
  {
   "cell_type": "code",
   "execution_count": 11,
   "metadata": {},
   "outputs": [
    {
     "data": {
      "text/plain": [
       "Score(WER=1.86, words=3707, insErr=27, delErr=6, subErr=36, SER=9.0, sentences=9, wrongSentences=100, missedSentences=0)"
      ]
     },
     "execution_count": 11,
     "metadata": {},
     "output_type": "execute_result"
    }
   ],
   "source": [
    "refFile = os.path.join(dataDir, \"exp\", \"text.int\")\n",
    "\n",
    "score = exkaldi.decode.score.wer(ref=refFile, hyp=result, mode=\"present\")\n",
    "\n",
    "score"
   ]
  },
  {
   "cell_type": "markdown",
   "metadata": {},
   "source": [
    "Up to here, the simple tutorial is over."
   ]
  }
 ],
 "metadata": {
  "kernelspec": {
   "display_name": "Python 3",
   "language": "python",
   "name": "python3"
  },
  "language_info": {
   "codemirror_mode": {
    "name": "ipython",
    "version": 3
   },
   "file_extension": ".py",
   "mimetype": "text/x-python",
   "name": "python",
   "nbconvert_exporter": "python",
   "pygments_lexer": "ipython3",
   "version": "3.6.8"
  }
 },
 "nbformat": 4,
 "nbformat_minor": 4
}
