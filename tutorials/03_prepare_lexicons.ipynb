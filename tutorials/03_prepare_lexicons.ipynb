{
 "cells": [
  {
   "cell_type": "markdown",
   "metadata": {},
   "source": [
    "# Welcome to Exkaldi\n",
    "\n",
    "In this section, we will introduce how to make lexicons."
   ]
  },
  {
   "cell_type": "code",
   "execution_count": 3,
   "metadata": {},
   "outputs": [],
   "source": [
    "import exkaldi\n",
    "\n",
    "import os\n",
    "dataDir = os.path.join(\"..\",\"examplesdata\",\"librispeech_dummy\")"
   ]
  },
  {
   "cell_type": "markdown",
   "metadata": {},
   "source": [
    "In exkaldi, most of lexicons are generated automatically when a pronounce file is provided.\n",
    "\n",
    "You can specify the silence words, and we will give them pronounce symbol same as the word if you provided a list.\n",
    "\n",
    "You can specify a symbol for OOV, and we will give them pronounce symbol same as the word if you provided a list.\n",
    "\n",
    "In this tutorials, we only make position independent lexicons."
   ]
  },
  {
   "cell_type": "code",
   "execution_count": 4,
   "metadata": {},
   "outputs": [
    {
     "data": {
      "text/plain": [
       "<exkaldi.decode.graph.LexiconBank at 0x7f1d9d48f940>"
      ]
     },
     "execution_count": 4,
     "metadata": {},
     "output_type": "execute_result"
    }
   ],
   "source": [
    "lexiconFile = os.path.join(dataDir, \"pronunciation.txt\")\n",
    "\n",
    "silWords={\"<SIL>\":\"<SIL>\", \n",
    "          \"<SPN>\":\"<SPN>\"}\n",
    "unkSymbol={\"<UNK>\":\"<SPN>\"}\n",
    "optionalSilPhone = \"<SIL>\"\n",
    "\n",
    "lexicons = exkaldi.decode.graph.lexicon_bank(lexiconFile, \n",
    "                                             silWords, \n",
    "                                             unkSymbol, \n",
    "                                             optionalSilPhone, \n",
    "                                             positionDependent = False,\n",
    "                                             shareSilPdf = True )\n",
    "\n",
    "lexicons"
   ]
  },
  {
   "cell_type": "markdown",
   "metadata": {},
   "source": [
    "___lexicons___ is an exkaldi __LexiconBank__ object. It is designed to manage all lexicons.  \n",
    "\n",
    "Use __.view__ to show all names of generated lexicons."
   ]
  },
  {
   "cell_type": "code",
   "execution_count": 5,
   "metadata": {},
   "outputs": [
    {
     "data": {
      "text/plain": [
       "['lexiconp',\n",
       " 'disambig',\n",
       " 'lexiconp_disambig',\n",
       " 'silence_phones',\n",
       " 'optional_silence',\n",
       " 'nonsilence_phones',\n",
       " 'phone_map',\n",
       " 'silence_phone_map',\n",
       " 'nonsilence_phone_map',\n",
       " 'extra_questions',\n",
       " 'silence',\n",
       " 'nonsilence',\n",
       " 'context_indep',\n",
       " 'wdisambig',\n",
       " 'wdisambig_phones',\n",
       " 'wdisambig_words',\n",
       " 'align_lexicon',\n",
       " 'oov',\n",
       " 'sets',\n",
       " 'roots',\n",
       " 'phones',\n",
       " 'words']"
      ]
     },
     "execution_count": 5,
     "metadata": {},
     "output_type": "execute_result"
    }
   ],
   "source": [
    "lexicons.view"
   ]
  },
  {
   "cell_type": "markdown",
   "metadata": {},
   "source": [
    " And you can call a specified lexicon. If you call \"words\" or \"phones\", it will return an exkaldi __ListTable__ object (a subclass of Pyhton dict)."
   ]
  },
  {
   "cell_type": "code",
   "execution_count": 6,
   "metadata": {},
   "outputs": [
    {
     "data": {
      "text/plain": [
       "['<SIL>', '<SPN>']"
      ]
     },
     "execution_count": 6,
     "metadata": {},
     "output_type": "execute_result"
    }
   ],
   "source": [
    "lexicons(\"silence_phones\")"
   ]
  },
  {
   "cell_type": "code",
   "execution_count": 8,
   "metadata": {},
   "outputs": [
    {
     "data": {
      "text/plain": [
       "exkaldi.core.achivements.ListTable"
      ]
     },
     "execution_count": 8,
     "metadata": {},
     "output_type": "execute_result"
    }
   ],
   "source": [
    "type(lexicons(\"words\"))"
   ]
  },
  {
   "cell_type": "markdown",
   "metadata": {},
   "source": [
    "All lexicons can be saved to file. Some lexicons supported to save their int value format."
   ]
  },
  {
   "cell_type": "code",
   "execution_count": 9,
   "metadata": {},
   "outputs": [
    {
     "data": {
      "text/plain": [
       "'/misc/Work19/wangyu/exkaldi-1.0/examplesdata/librispeech_dummy/exp/words.txt'"
      ]
     },
     "execution_count": 9,
     "metadata": {},
     "output_type": "execute_result"
    }
   ],
   "source": [
    "outFile = os.path.join(dataDir, \"exp\", \"words.txt\")\n",
    "\n",
    "exkaldi.utils.make_dependent_dirs(path=outFile, pathIsFile=True)\n",
    "\n",
    "lexicons.dump_dict(name=\"words\", outFile=outFile, dumpInt=False)"
   ]
  },
  {
   "cell_type": "markdown",
   "metadata": {},
   "source": [
    "As memtioned above, Wrod-ID lexicon and Phone-ID lexicon have been made defaultly, you can reset it by your new file."
   ]
  },
  {
   "cell_type": "code",
   "execution_count": null,
   "metadata": {},
   "outputs": [],
   "source": [
    "# newWordsFile = \"myWords.txt\"\n",
    "\n",
    "# lexicons.reset_words(target=newWordsFile)"
   ]
  },
  {
   "cell_type": "markdown",
   "metadata": {},
   "source": [
    "After a new lexicon probability generated, you can update the probability of all related lexicons."
   ]
  },
  {
   "cell_type": "code",
   "execution_count": null,
   "metadata": {},
   "outputs": [],
   "source": [
    "# newProbFile = \"newLexiconp.txt\"\n",
    "\n",
    "# lexicons.update_prob(newProbFile)"
   ]
  },
  {
   "cell_type": "markdown",
   "metadata": {},
   "source": [
    "__LexiconBank__ object will be useful in other training steps.\n",
    "\n",
    "Now we will try to make a disambiguation lexicon fst."
   ]
  },
  {
   "cell_type": "code",
   "execution_count": 10,
   "metadata": {},
   "outputs": [
    {
     "data": {
      "text/plain": [
       "'/misc/Work19/wangyu/exkaldi-1.0/examplesdata/librispeech_dummy/exp/L_disambig.fst'"
      ]
     },
     "execution_count": 10,
     "metadata": {},
     "output_type": "execute_result"
    }
   ],
   "source": [
    "Lfile = os.path.join(dataDir,\"exp\",\"L_disambig.fst\")\n",
    "\n",
    "exkaldi.decode.graph.make_L(lexicons, outFile=Lfile, useDisambigLexicon=True)"
   ]
  },
  {
   "cell_type": "markdown",
   "metadata": {},
   "source": [
    "We can save this LexiconBank object to file."
   ]
  },
  {
   "cell_type": "code",
   "execution_count": 11,
   "metadata": {},
   "outputs": [
    {
     "data": {
      "text/plain": [
       "'/misc/Work19/wangyu/exkaldi-1.0/examplesdata/librispeech_dummy/exp/lexicons.lex'"
      ]
     },
     "execution_count": 11,
     "metadata": {},
     "output_type": "execute_result"
    }
   ],
   "source": [
    "lexFile = os.path.join(dataDir, \"exp\", \"lexicons.lex\")\n",
    "\n",
    "lexicons.save(lexFile)"
   ]
  },
  {
   "cell_type": "markdown",
   "metadata": {},
   "source": [
    "Actually, besides __lexicon__ file, __lexiconp__, __lexiconp_disambig__, __lexiconp_silprob__ and __lexiconp_silprob_disambig__ can also be used to initialize the __LexiconBank__ object."
   ]
  }
 ],
 "metadata": {
  "kernelspec": {
   "display_name": "Python 3",
   "language": "python",
   "name": "python3"
  },
  "language_info": {
   "codemirror_mode": {
    "name": "ipython",
    "version": 3
   },
   "file_extension": ".py",
   "mimetype": "text/x-python",
   "name": "python",
   "nbconvert_exporter": "python",
   "pygments_lexer": "ipython3",
   "version": "3.6.9"
  }
 },
 "nbformat": 4,
 "nbformat_minor": 4
}
