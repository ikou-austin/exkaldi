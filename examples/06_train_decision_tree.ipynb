{
 "cells": [
  {
   "cell_type": "markdown",
   "metadata": {},
   "source": [
    "# Welcome to Exkaldi\n",
    "\n",
    "In this section, we will build a decision tree. In order to train a triphone model, a decision tree is necessary."
   ]
  },
  {
   "cell_type": "code",
   "execution_count": 2,
   "metadata": {},
   "outputs": [],
   "source": [
    "import exkaldi\n",
    "\n",
    "import os\n",
    "dataDir = os.path.join(\"..\",\"examplesdata\",\"librispeech_dummy\")"
   ]
  },
  {
   "cell_type": "markdown",
   "metadata": {},
   "source": [
    "Restorage lexicons generated in early step (3_prepare_lexicons)."
   ]
  },
  {
   "cell_type": "code",
   "execution_count": 3,
   "metadata": {},
   "outputs": [
    {
     "data": {
      "text/plain": [
       "<exkaldi.decode.graph.LexiconBank at 0x7fca6a21f208>"
      ]
     },
     "execution_count": 3,
     "metadata": {},
     "output_type": "execute_result"
    }
   ],
   "source": [
    "lexFile = os.path.join(dataDir, \"exp\", \"lexicons.lex\")\n",
    "\n",
    "lexicons = exkaldi.decode.graph.load_lex(lexFile)\n",
    "\n",
    "lexicons"
   ]
  },
  {
   "cell_type": "markdown",
   "metadata": {},
   "source": [
    "Then initialize a DecisionTree object. ___lexicons___ can be provided as a parameter."
   ]
  },
  {
   "cell_type": "code",
   "execution_count": 4,
   "metadata": {},
   "outputs": [
    {
     "data": {
      "text/plain": [
       "<exkaldi.hmm.hmm.DecisionTree at 0x7fca6a200d30>"
      ]
     },
     "execution_count": 4,
     "metadata": {},
     "output_type": "execute_result"
    }
   ],
   "source": [
    "tree = exkaldi.hmm.DecisionTree(lexicons=lexicons)\n",
    "\n",
    "tree"
   ]
  },
  {
   "cell_type": "markdown",
   "metadata": {},
   "source": [
    "___tree___ is an exkaldi __DecisionTree__ object."
   ]
  },
  {
   "cell_type": "markdown",
   "metadata": {},
   "source": [
    "Then prepare acoustic feature, hmm model and alignment."
   ]
  },
  {
   "cell_type": "code",
   "execution_count": 6,
   "metadata": {},
   "outputs": [
    {
     "data": {
      "text/plain": [
       "<exkaldi.core.achivements.BytesFeature at 0x7fcad15387f0>"
      ]
     },
     "execution_count": 6,
     "metadata": {},
     "output_type": "execute_result"
    }
   ],
   "source": [
    "featFile = os.path.join(dataDir, \"exp\", \"mfcc.ark\")\n",
    "\n",
    "feat = exkaldi.load_feat(featFile)\n",
    "\n",
    "feat"
   ]
  },
  {
   "cell_type": "markdown",
   "metadata": {},
   "source": [
    "Monophone HMM model and alignment have been generated in last step (5_train_mono_HMM-GMM). Now use them directly."
   ]
  },
  {
   "cell_type": "code",
   "execution_count": 7,
   "metadata": {},
   "outputs": [],
   "source": [
    "hmmFile = os.path.join(dataDir, \"exp\", \"train_mono\", \"final.mdl\")\n",
    "\n",
    "aliFile = os.path.join(dataDir, \"exp\", \"train_mono\", \"final.ali\")"
   ]
  },
  {
   "cell_type": "markdown",
   "metadata": {},
   "source": [
    "As training the HMM model, we provide high-level API to train tree, but now we still introduce the training steps indetail.\n",
    "\n",
    "### Train Dicision Tree in detail\n",
    "\n",
    "#### 1. Accumulate statistics data"
   ]
  },
  {
   "cell_type": "code",
   "execution_count": 9,
   "metadata": {},
   "outputs": [],
   "source": [
    "outDir = os.path.join(dataDir, \"exp\", \"train_tree\")\n",
    "\n",
    "exkaldi.utils.make_dependent_dirs(outDir, False)"
   ]
  },
  {
   "cell_type": "code",
   "execution_count": 10,
   "metadata": {},
   "outputs": [
    {
     "data": {
      "text/plain": [
       "'/misc/Work19/wangyu/exkaldi-1.0/examplesdata/librispeech_dummy/exp/train_tree/treeStats.acc'"
      ]
     },
     "execution_count": 10,
     "metadata": {},
     "output_type": "execute_result"
    }
   ],
   "source": [
    "treeStatsFile = os.path.join(outDir, \"treeStats.acc\")\n",
    "\n",
    "tree.accumulate_stats(feat, hmmFile, aliFile, outFile=treeStatsFile)"
   ]
  },
  {
   "cell_type": "markdown",
   "metadata": {},
   "source": [
    "#### 2. Cluster phones and compile questions."
   ]
  },
  {
   "cell_type": "code",
   "execution_count": 11,
   "metadata": {},
   "outputs": [
    {
     "data": {
      "text/plain": [
       "'/misc/Work19/wangyu/exkaldi-1.0/examplesdata/librispeech_dummy/exp/train_tree/questions.qst'"
      ]
     },
     "execution_count": 11,
     "metadata": {},
     "output_type": "execute_result"
    }
   ],
   "source": [
    "topoFile = os.path.join(dataDir, \"exp\", \"topo\")\n",
    "\n",
    "questionsFile = os.path.join(outDir, \"questions.qst\")\n",
    "\n",
    "tree.compile_questions(treeStatsFile, topoFile, outFile=questionsFile)"
   ]
  },
  {
   "cell_type": "markdown",
   "metadata": {},
   "source": [
    "#### 3. Build tree.\n",
    "\n",
    "We set 1000 as the target numbers of leaves of tree, that is more than pdfs of monophone model."
   ]
  },
  {
   "cell_type": "code",
   "execution_count": 12,
   "metadata": {},
   "outputs": [
    {
     "data": {
      "text/plain": [
       "527"
      ]
     },
     "execution_count": 12,
     "metadata": {},
     "output_type": "execute_result"
    }
   ],
   "source": [
    "model0 = exkaldi.hmm.load_hmm(hmmFile, hmmType=\"monophone\", name=\"mono\")\n",
    "\n",
    "model0.info.gaussians"
   ]
  },
  {
   "cell_type": "code",
   "execution_count": 13,
   "metadata": {},
   "outputs": [
    {
     "data": {
      "text/plain": [
       "<exkaldi.hmm.hmm.DecisionTree at 0x7fca6a200d30>"
      ]
     },
     "execution_count": 13,
     "metadata": {},
     "output_type": "execute_result"
    }
   ],
   "source": [
    "targetLeaves = 1000\n",
    "\n",
    "tree.build(treeStatsFile, questionsFile, targetLeaves, topoFile)"
   ]
  },
  {
   "cell_type": "markdown",
   "metadata": {},
   "source": [
    "Decision has been built done. Look it."
   ]
  },
  {
   "cell_type": "code",
   "execution_count": 14,
   "metadata": {},
   "outputs": [
    {
     "data": {
      "text/plain": [
       "TreeInfo(numPdfs=784, contextWidth=3, centralPosition=1)"
      ]
     },
     "execution_count": 14,
     "metadata": {},
     "output_type": "execute_result"
    }
   ],
   "source": [
    "tree.info"
   ]
  },
  {
   "cell_type": "markdown",
   "metadata": {},
   "source": [
    "Save the tree to file."
   ]
  },
  {
   "cell_type": "code",
   "execution_count": 15,
   "metadata": {},
   "outputs": [
    {
     "data": {
      "text/plain": [
       "'/misc/Work19/wangyu/exkaldi-1.0/examplesdata/librispeech_dummy/exp/train_tree/tree'"
      ]
     },
     "execution_count": 15,
     "metadata": {},
     "output_type": "execute_result"
    }
   ],
   "source": [
    "treeFile = os.path.join(outDir, \"tree\")\n",
    "\n",
    "tree.save(treeFile)"
   ]
  },
  {
   "cell_type": "markdown",
   "metadata": {},
   "source": [
    "As mentioned above, we provided a high-level API to build tree directly.\n",
    "\n",
    "### Train Dicision Tree in high-level API"
   ]
  },
  {
   "cell_type": "code",
   "execution_count": 20,
   "metadata": {},
   "outputs": [],
   "source": [
    "del tree\n",
    "del model0\n",
    "\n",
    "os.remove(treeStatsFile)\n",
    "os.remove(questionsFile)\n",
    "os.remove(treeFile)"
   ]
  },
  {
   "cell_type": "code",
   "execution_count": 21,
   "metadata": {},
   "outputs": [
    {
     "name": "stdout",
     "output_type": "stream",
     "text": [
      "Start to build decision tree.\n",
      "Start Time: 2020/06/02-12:07:55\n",
      ">> Accumulate tree statistics\n",
      ">> Cluster phones and compile questions\n",
      ">> Build tree\n",
      "Done to build the decision tree.\n",
      "Saved Final Tree: ../examplesdata/librispeech_dummy/exp/train_tree/tree\n",
      "End Time: 20200602-120803\n"
     ]
    }
   ],
   "source": [
    "tree = exkaldi.hmm.DecisionTree(lexicons=lexicons)\n",
    "\n",
    "tree.train(feat=feat, hmm=hmmFile, alignment=aliFile, topoFile=topoFile, numleaves=1000, tempDir=outDir)"
   ]
  },
  {
   "cell_type": "markdown",
   "metadata": {},
   "source": [
    "Tree has been saved in directory automatically."
   ]
  }
 ],
 "metadata": {
  "kernelspec": {
   "display_name": "Python 3",
   "language": "python",
   "name": "python3"
  },
  "language_info": {
   "codemirror_mode": {
    "name": "ipython",
    "version": 3
   },
   "file_extension": ".py",
   "mimetype": "text/x-python",
   "name": "python",
   "nbconvert_exporter": "python",
   "pygments_lexer": "ipython3",
   "version": "3.6.9"
  }
 },
 "nbformat": 4,
 "nbformat_minor": 4
}
